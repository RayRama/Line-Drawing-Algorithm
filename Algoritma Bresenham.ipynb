{
 "cells": [
  {
   "cell_type": "code",
   "execution_count": 2,
   "metadata": {},
   "outputs": [],
   "source": [
    "from matplotlib import pyplot as plt\n",
    "import pandas as pd"
   ]
  },
  {
   "cell_type": "code",
   "execution_count": 3,
   "metadata": {},
   "outputs": [],
   "source": [
    "def calculate_dx(x0, x1):\n",
    "    return x1 - x0\n",
    "\n",
    "def calculate_dy(y0, y1):\n",
    "    return y1 - y0"
   ]
  },
  {
   "cell_type": "code",
   "execution_count": 32,
   "metadata": {},
   "outputs": [],
   "source": [
    "def calculate_parameter(dx, dy):\n",
    "    parameter = 2 * dy - dx\n",
    "    return parameter"
   ]
  },
  {
   "cell_type": "code",
   "execution_count": 33,
   "metadata": {},
   "outputs": [],
   "source": [
    "def increment(dx, dy):\n",
    "  increment_one = 2 * dy\n",
    "  increment_two = (2 * dy) - (2 * dx)\n",
    "  return increment_one, increment_two"
   ]
  },
  {
   "cell_type": "code",
   "execution_count": 34,
   "metadata": {},
   "outputs": [],
   "source": [
    "def computer_bresenham(x0, y0, x1, y1):\n",
    "    dx = calculate_dx(x0, x1)\n",
    "    dy = calculate_dy(y0, y1)\n",
    "    parameter = calculate_parameter(dx, dy)\n",
    "    increment_one, increment_two = increment(dx, dy)\n",
    "    x = x0\n",
    "    y = y0\n",
    "    points, temp_parameter = [], []\n",
    "    points.append((x, y))\n",
    "    while x < x1:\n",
    "        if parameter < 0:\n",
    "            temp_parameter.append(parameter)\n",
    "            parameter += increment_one\n",
    "            x += 1\n",
    "        else:\n",
    "            temp_parameter.append(parameter)\n",
    "            parameter += increment_two\n",
    "            x += 1\n",
    "            y += 1\n",
    "        points.append((x, y))\n",
    "    \n",
    "    return pd.DataFrame({'Pk': temp_parameter}), points, dx, dy, increment_one, increment_two"
   ]
  },
  {
   "cell_type": "code",
   "execution_count": 36,
   "metadata": {},
   "outputs": [
    {
     "name": "stdout",
     "output_type": "stream",
     "text": [
      "x0: 6, y0: 4, x1: 2, y1: 1\n",
      "dx: -4, dy: -3, 2dy: -6, 2dy - 2dx: 2\n",
      "Empty DataFrame\n",
      "Columns: [Pk]\n",
      "Index: []\n",
      "   0  1\n",
      "0  6  4\n"
     ]
    },
    {
     "data": {
      "image/png": "[encoded data removed]",
      "text/plain": [
       "<Figure size 640x480 with 1 Axes>"
      ]
     },
     "metadata": {},
     "output_type": "display_data"
    }
   ],
   "source": [
    "x0 = 6\n",
    "y0 = 4\n",
    "x1 = 2\n",
    "y1 = 1\n",
    "\n",
    "df, points, dx, dy, increment_one, increment_two = computer_bresenham(x0, y0, x1, y1)\n",
    "\n",
    "print(f'x0: {x0}, y0: {y0}, x1: {x1}, y1: {y1}')\n",
    "print(f'dx: {dx}, dy: {dy}, 2dy: {increment_one}, 2dy - 2dx: {increment_two}')\n",
    "print(df)\n",
    "\n",
    "print(pd.DataFrame(points))\n",
    "plt.plot(pd.DataFrame(points)[0], pd.DataFrame(points)[1], marker='o')\n",
    "plt.xlabel('x')\n",
    "plt.ylabel('y')\n",
    "plt.title('Bresenham Line')\n",
    "plt.show()"
   ]
  }
 ],
 "metadata": {
  "kernelspec": {
   "display_name": "Python 3",
   "language": "python",
   "name": "python3"
  },
  "language_info": {
   "codemirror_mode": {
    "name": "ipython",
    "version": 3
   },
   "file_extension": ".py",
   "mimetype": "text/x-python",
   "name": "python",
   "nbconvert_exporter": "python",
   "pygments_lexer": "ipython3",
   "version": "3.10.1"
  }
 },
 "nbformat": 4,
 "nbformat_minor": 2
}
