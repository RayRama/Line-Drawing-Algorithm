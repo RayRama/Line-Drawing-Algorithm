{
 "cells": [
  {
   "cell_type": "code",
   "execution_count": 2,
   "metadata": {},
   "outputs": [],
   "source": [
    "from matplotlib import pyplot as plt\n",
    "import pandas as pd"
   ]
  },
  {
   "cell_type": "code",
   "execution_count": 3,
   "metadata": {},
   "outputs": [],
   "source": [
    "# Fungsi menghitung dx dan dy\n",
    "\n",
    "def caluclate_dx(x1, x0):\n",
    "    return x1 - x0\n",
    "\n",
    "def calculate_dy(y1, y0):\n",
    "    return y1 - y0"
   ]
  },
  {
   "cell_type": "code",
   "execution_count": 4,
   "metadata": {},
   "outputs": [],
   "source": [
    "# Fungsi untuk menghitung step\n",
    "\n",
    "def calculate_steps(dx, dy):\n",
    "    steps = 0\n",
    "    if abs(dx) > abs(dy):\n",
    "        steps = abs(dx)\n",
    "    else:\n",
    "        steps = abs(dy)\n",
    "    return steps"
   ]
  },
  {
   "cell_type": "code",
   "execution_count": 5,
   "metadata": {},
   "outputs": [],
   "source": [
    "# Fungsi increment x dan y\n",
    "\n",
    "def increment(dx, dy, steps):\n",
    "    x_inc = dx / steps\n",
    "    y_inc = dy / steps\n",
    "    return x_inc, y_inc"
   ]
  },
  {
   "cell_type": "code",
   "execution_count": 6,
   "metadata": {},
   "outputs": [],
   "source": [
    "# Fungsi untuk menghitung DDA\n",
    "\n",
    "def compute_dda(x0, y0, x1, y1):\n",
    "  \"\"\"\n",
    "    Args:\n",
    "      x0, y0: Koordinat titik awal\n",
    "      x1, y1: Koordinat titik akhir\n",
    "\n",
    "    Returns:\n",
    "      Tuple yang berisi:\n",
    "      - dataframe x dan y\n",
    "      - x_values dan y_values\n",
    "      - Jumlah steps\n",
    "      - dx dan dy\n",
    "  \"\"\"\n",
    "\n",
    "  dx = caluclate_dx(x1, x0)\n",
    "  dy = calculate_dy(y1, y0)\n",
    "\n",
    "  steps = calculate_steps(dx, dy)\n",
    "\n",
    "  x_inc, y_inc = increment(dx, dy, steps)\n",
    "\n",
    "  x, y = x0, y0\n",
    "\n",
    "  x_values, y_values = [x], [y]\n",
    "  dataframe = []\n",
    "\n",
    "  for _ in range(steps):\n",
    "    x += x_inc\n",
    "    y += y_inc\n",
    "\n",
    "    x_values.append(round(x))\n",
    "    y_values.append(round(y))\n",
    "\n",
    "    dataframe.append({'x':round(x, 2), 'y':round(y, 2)})\n",
    "\n",
    "  return pd.DataFrame(dataframe), x_values, y_values, steps, dx, dy"
   ]
  },
  {
   "cell_type": "code",
   "execution_count": 21,
   "metadata": {},
   "outputs": [
    {
     "name": "stdout",
     "output_type": "stream",
     "text": [
      "x0: 6, y0: 4, x1: 2, y1: 1\n",
      "Steps: 4, dx: -4, dy: -3\n",
      "     x     y\n",
      "0  5.0  3.25\n",
      "1  4.0  2.50\n",
      "2  3.0  1.75\n",
      "3  2.0  1.00\n",
      "     x    y\n",
      "0  5.0  3.0\n",
      "1  4.0  2.0\n",
      "2  3.0  2.0\n",
      "3  2.0  1.0\n"
     ]
    },
    {
     "data": {
      "image/png": "[encoded data removed]",
      "text/plain": [
       "<Figure size 640x480 with 1 Axes>"
      ]
     },
     "metadata": {},
     "output_type": "display_data"
    }
   ],
   "source": [
    "# Menentukan input titik (x0, y0) dan (x1, y1)\n",
    "x0 = 6\n",
    "y0 = 4\n",
    "\n",
    "x1 = 2\n",
    "y1 = 1\n",
    "\n",
    "df, x_values, y_values, steps, dx, dy = compute_dda(x0, y0, x1, y1)\n",
    "\n",
    "print(f'x0: {x0}, y0: {y0}, x1: {x1}, y1: {y1}')\n",
    "print(f\"Steps: {steps}, dx: {dx}, dy: {dy}\")\n",
    "\n",
    "print(df)\n",
    "print(df.round())\n",
    "\n",
    "# Menampilkan hasil algoritma DDA\n",
    "plt.plot(x_values, y_values, marker='o')\n",
    "plt.xlabel('x')\n",
    "plt.ylabel('y')\n",
    "plt.title('Algoritma DDA')\n",
    "plt.show()"
   ]
  }
 ],
 "metadata": {
  "kernelspec": {
   "display_name": "Python 3",
   "language": "python",
   "name": "python3"
  },
  "language_info": {
   "codemirror_mode": {
    "name": "ipython",
    "version": 3
   },
   "file_extension": ".py",
   "mimetype": "text/x-python",
   "name": "python",
   "nbconvert_exporter": "python",
   "pygments_lexer": "ipython3",
   "version": "3.10.1"
  }
 },
 "nbformat": 4,
 "nbformat_minor": 2
}
